{
  "cells": [
    {
      "cell_type": "markdown",
      "metadata": {
        "id": "view-in-github",
        "colab_type": "text"
      },
      "source": [
        "<a href=\"https://colab.research.google.com/github/AlexandrChipizubov/Data_analysis_chit_sheets/blob/main/EDA.ipynb\" target=\"_parent\"><img src=\"https://colab.research.google.com/assets/colab-badge.svg\" alt=\"Open In Colab\"/></a>"
      ]
    },
    {
      "cell_type": "code",
      "execution_count": null,
      "metadata": {
        "id": "SSwkSYyQ7JP5",
        "colab": {
          "base_uri": "https://localhost:8080/"
        },
        "outputId": "e21add4b-b0fe-43c1-957f-5d561ee6b482"
      },
      "outputs": [
        {
          "output_type": "stream",
          "name": "stdout",
          "text": [
            "Mounted at /content/drive\n"
          ]
        }
      ],
      "source": [
        "# !pip install pygmo\n",
        "# !pip install numpy scipy pyade-python\n",
        "\n",
        "# import pygmo as pg\n",
        "# import pyade.shade\n",
        "# import keras as k\n",
        "# from bokeh.plotting import figure, output_file, show\n",
        "# import matplotlib.pyplot as plt\n",
        "import numpy as np\n",
        "import pandas as pd\n",
        "# from numpy import savetxt\n",
        "# from numpy import loadtxt\n",
        "# from scipy.stats import wilcoxon\n",
        "# from sklearn import preprocessing\n",
        "# from sklearn.metrics import accuracy_score\n",
        "from google.colab import drive\n",
        "drive.mount('/content/drive')\n",
        "way = '/content/drive/My Drive/House Prices/'"
      ]
    },
    {
      "cell_type": "code",
      "source": [
        "house_data = pd.read_csv(way + \"input/house-prices-advanced-regression-techniques/train.csv\")"
      ],
      "metadata": {
        "id": "o6ZyD7I2ScSU"
      },
      "execution_count": null,
      "outputs": []
    },
    {
      "cell_type": "markdown",
      "source": [
        "удалить величину из ячеек таблицы (100$)"
      ],
      "metadata": {
        "id": "lwbOSDOqj3v0"
      }
    },
    {
      "cell_type": "code",
      "source": [
        "house_data.LotArea = house_data.LotArea.apply(lambda x: str(x)+'$')\n",
        "print(house_data['LotArea'])"
      ],
      "metadata": {
        "id": "8uVwRBoDlbdu",
        "colab": {
          "base_uri": "https://localhost:8080/"
        },
        "outputId": "cae2848b-289d-4dcb-9d38-67363df26983"
      },
      "execution_count": null,
      "outputs": [
        {
          "output_type": "stream",
          "name": "stdout",
          "text": [
            "0        8450$\n",
            "1        9600$\n",
            "2       11250$\n",
            "3        9550$\n",
            "4       14260$\n",
            "         ...  \n",
            "1455     7917$\n",
            "1456    13175$\n",
            "1457     9042$\n",
            "1458     9717$\n",
            "1459     9937$\n",
            "Name: LotArea, Length: 1460, dtype: object\n"
          ]
        }
      ]
    },
    {
      "cell_type": "code",
      "source": [
        "house_data['LotArea($)'] = house_data['LotArea'].apply(lambda x: x.replace('$', '')).astype(int)\n",
        "print(house_data['LotArea($)'])"
      ],
      "metadata": {
        "id": "t-jH-P5lI8bB",
        "colab": {
          "base_uri": "https://localhost:8080/"
        },
        "outputId": "4377fa68-4999-4916-dea8-3e6c8a4fb584"
      },
      "execution_count": null,
      "outputs": [
        {
          "output_type": "stream",
          "name": "stdout",
          "text": [
            "0        8450\n",
            "1        9600\n",
            "2       11250\n",
            "3        9550\n",
            "4       14260\n",
            "        ...  \n",
            "1455     7917\n",
            "1456    13175\n",
            "1457     9042\n",
            "1458     9717\n",
            "1459     9937\n",
            "Name: LotArea($), Length: 1460, dtype: int64\n"
          ]
        }
      ]
    },
    {
      "cell_type": "markdown",
      "source": [
        "изменить формат отображения даты (с правильным форматированием непонятных значений или пропусков)"
      ],
      "metadata": {
        "id": "gORLA88ZlyRf"
      }
    },
    {
      "cell_type": "code",
      "source": [
        "print(house_data['GarageYrBlt'].isnull().sum())\n",
        "print(house_data['GarageYrBlt'].count())\n",
        "\n",
        "house_data['GarageYrBlt_formatted'] = pd.to_datetime(house_data['GarageYrBlt'], format='%Y', errors = 'coerce')\n",
        "print(house_data['GarageYrBlt_formatted'][38:])"
      ],
      "metadata": {
        "colab": {
          "base_uri": "https://localhost:8080/"
        },
        "id": "i1R8bIPTj1gC",
        "outputId": "357f502f-bd7f-4c7b-bd76-b06e3a2195bc"
      },
      "execution_count": null,
      "outputs": [
        {
          "output_type": "stream",
          "name": "stdout",
          "text": [
            "81\n",
            "1379\n",
            "38     1953-01-01\n",
            "39            NaT\n",
            "40     1965-01-01\n",
            "41     1959-01-01\n",
            "42     1983-01-01\n",
            "          ...    \n",
            "1455   1999-01-01\n",
            "1456   1978-01-01\n",
            "1457   1941-01-01\n",
            "1458   1950-01-01\n",
            "1459   1965-01-01\n",
            "Name: GarageYrBlt_formatted, Length: 1422, dtype: datetime64[ns]\n"
          ]
        }
      ]
    },
    {
      "cell_type": "markdown",
      "source": [
        "кодировки категориальных признаков "
      ],
      "metadata": {
        "id": "U88xeKVqzhqC"
      }
    },
    {
      "cell_type": "code",
      "source": [
        "print(house_data['GarageType'].unique())\n",
        "print(house_data['GarageType'].isnull().sum())\n",
        "dct = {'Attchd': 0, 'Detchd': 1, 'BuiltIn': 2, 'CarPort': 3, 'Basment': 4, '2Types': 5}\n",
        "house_data['GarageType_coded'] = house_data['GarageType'].map(dct).astype('Int64')\n",
        "print(house_data['GarageType_coded'])\n",
        "print(house_data['GarageType'].isnull().sum())"
      ],
      "metadata": {
        "colab": {
          "base_uri": "https://localhost:8080/"
        },
        "id": "42P5-gaIzhQH",
        "outputId": "786aa22e-6cf0-4678-e64b-133a83aee7f7"
      },
      "execution_count": null,
      "outputs": [
        {
          "output_type": "stream",
          "name": "stdout",
          "text": [
            "['Attchd' 'Detchd' 'BuiltIn' 'CarPort' nan 'Basment' '2Types']\n",
            "81\n",
            "0       0\n",
            "1       0\n",
            "2       0\n",
            "3       1\n",
            "4       0\n",
            "       ..\n",
            "1455    0\n",
            "1456    0\n",
            "1457    0\n",
            "1458    0\n",
            "1459    0\n",
            "Name: GarageType_coded, Length: 1460, dtype: Int64\n",
            "81\n"
          ]
        }
      ]
    },
    {
      "cell_type": "code",
      "source": [
        "house_data['GarageType_coded'] = house_data['GarageType'].factorize()[0]\n",
        "print(house_data['GarageType_coded'])\n",
        "print(house_data['GarageType_coded'].unique())\n",
        "print(house_data['GarageType_coded'].isnull().sum())\n",
        "# Если использовать такой способ, nan принимают значение -1"
      ],
      "metadata": {
        "colab": {
          "base_uri": "https://localhost:8080/"
        },
        "id": "5Oi6o4ZjR6xQ",
        "outputId": "ad2a24aa-14d3-4663-cc34-600612c3274c"
      },
      "execution_count": null,
      "outputs": [
        {
          "output_type": "stream",
          "name": "stdout",
          "text": [
            "0       0\n",
            "1       0\n",
            "2       0\n",
            "3       1\n",
            "4       0\n",
            "       ..\n",
            "1455    0\n",
            "1456    0\n",
            "1457    0\n",
            "1458    0\n",
            "1459    0\n",
            "Name: GarageType_coded, Length: 1460, dtype: int64\n",
            "[ 0  1  2  3 -1  4  5]\n",
            "0\n"
          ]
        }
      ]
    },
    {
      "cell_type": "markdown",
      "source": [
        "разбиение одного столбца на несколько"
      ],
      "metadata": {
        "id": "tYdajoq2T2HV"
      }
    },
    {
      "cell_type": "code",
      "source": [
        "house_data['combined_column'] = house_data['LotFrontage'].astype(str) + '/' + house_data['LotArea'].astype(str)\n",
        "print(house_data['combined_column'])\n",
        "\n",
        "tmp = house_data['combined_column'].str.split('/')\n",
        "house_data['LotFrontage_splited'], house_data['LotArea_splited'] = tmp.apply(lambda x: x[0]).astype(float), tmp.apply(lambda x: x[1]).astype(int)\n",
        "print(house_data['LotFrontage_splited'][6:], house_data['LotArea_splited'])"
      ],
      "metadata": {
        "colab": {
          "base_uri": "https://localhost:8080/"
        },
        "id": "1jdwbNf8TrPC",
        "outputId": "a987f7fa-0180-416f-ef99-47487ee6813b"
      },
      "execution_count": null,
      "outputs": [
        {
          "output_type": "stream",
          "name": "stdout",
          "text": [
            "0        65.0/8450\n",
            "1        80.0/9600\n",
            "2       68.0/11250\n",
            "3        60.0/9550\n",
            "4       84.0/14260\n",
            "           ...    \n",
            "1455     62.0/7917\n",
            "1456    85.0/13175\n",
            "1457     66.0/9042\n",
            "1458     68.0/9717\n",
            "1459     75.0/9937\n",
            "Name: combined_column, Length: 1460, dtype: object\n",
            "6       75.0\n",
            "7        NaN\n",
            "8       51.0\n",
            "9       50.0\n",
            "10      70.0\n",
            "        ... \n",
            "1455    62.0\n",
            "1456    85.0\n",
            "1457    66.0\n",
            "1458    68.0\n",
            "1459    75.0\n",
            "Name: LotFrontage_splited, Length: 1454, dtype: float64 0        8450\n",
            "1        9600\n",
            "2       11250\n",
            "3        9550\n",
            "4       14260\n",
            "        ...  \n",
            "1455     7917\n",
            "1456    13175\n",
            "1457     9042\n",
            "1458     9717\n",
            "1459     9937\n",
            "Name: LotArea_splited, Length: 1460, dtype: int64\n"
          ]
        }
      ]
    },
    {
      "cell_type": "code",
      "source": [
        "house_data['combined_column'] = house_data['LotFrontage'].astype(str) + '/' + house_data['LotArea'].astype(str)\n",
        "house_data[['LotFrontage_splited', 'LotArea_splited']] = pd.DataFrame(house_data['combined_column'].str.split('/').to_list(), columns = ['1', '2'])\n",
        "print(house_data['LotFrontage_splited'][6:], house_data['LotArea_splited'])"
      ],
      "metadata": {
        "colab": {
          "base_uri": "https://localhost:8080/"
        },
        "id": "0jQ96Q9ggGA9",
        "outputId": "03fb1029-4684-4b7d-ee8e-e2c3ce43ce5c"
      },
      "execution_count": null,
      "outputs": [
        {
          "output_type": "stream",
          "name": "stdout",
          "text": [
            "6       75.0\n",
            "7        nan\n",
            "8       51.0\n",
            "9       50.0\n",
            "10      70.0\n",
            "        ... \n",
            "1455    62.0\n",
            "1456    85.0\n",
            "1457    66.0\n",
            "1458    68.0\n",
            "1459    75.0\n",
            "Name: LotFrontage_splited, Length: 1454, dtype: object 0        8450\n",
            "1        9600\n",
            "2       11250\n",
            "3        9550\n",
            "4       14260\n",
            "        ...  \n",
            "1455     7917\n",
            "1456    13175\n",
            "1457     9042\n",
            "1458     9717\n",
            "1459     9937\n",
            "Name: LotArea_splited, Length: 1460, dtype: object\n"
          ]
        }
      ]
    },
    {
      "cell_type": "code",
      "source": [
        "house_data['combined_column'] = house_data['LotFrontage'].astype(str) + '/' + house_data['LotArea'].astype(str)\n",
        "house_data[['LotFrontage_splited', 'LotArea_splited']] = house_data['combined_column'].str.split('/', expand = True)\n",
        "print(house_data['LotFrontage_splited'][6:], house_data['LotArea_splited'])"
      ],
      "metadata": {
        "colab": {
          "base_uri": "https://localhost:8080/"
        },
        "id": "0MUA2UNIF7l4",
        "outputId": "feaf14fc-86af-4167-c2d5-ab4f2df313ab"
      },
      "execution_count": null,
      "outputs": [
        {
          "output_type": "stream",
          "name": "stdout",
          "text": [
            "6       75.0\n",
            "7        nan\n",
            "8       51.0\n",
            "9       50.0\n",
            "10      70.0\n",
            "        ... \n",
            "1455    62.0\n",
            "1456    85.0\n",
            "1457    66.0\n",
            "1458    68.0\n",
            "1459    75.0\n",
            "Name: LotFrontage_splited, Length: 1454, dtype: object 0        8450\n",
            "1        9600\n",
            "2       11250\n",
            "3        9550\n",
            "4       14260\n",
            "        ...  \n",
            "1455     7917\n",
            "1456    13175\n",
            "1457     9042\n",
            "1458     9717\n",
            "1459     9937\n",
            "Name: LotArea_splited, Length: 1460, dtype: object\n"
          ]
        }
      ]
    },
    {
      "cell_type": "code",
      "source": [
        "# способ, если нет nan-ов и прочих ошибок в данныых:\n",
        "house_data['combined_column'] = house_data['MSSubClass'].astype(str) + '/' + house_data['LotArea'].astype(str)\n",
        "st = '/'.join(house_data['combined_column'])\n",
        "house_data[['MSSubClass_splited', 'LotArea_splited']] = pd.DataFrame(np.array(st.split('/')).reshape(-1, 2))\n",
        "print(house_data['MSSubClass_splited'][6:], house_data['LotArea_splited'])"
      ],
      "metadata": {
        "id": "V_EVXkC1M1hB",
        "colab": {
          "base_uri": "https://localhost:8080/"
        },
        "outputId": "f7c4456f-d50c-4483-ca76-18da302e074e"
      },
      "execution_count": null,
      "outputs": [
        {
          "output_type": "stream",
          "name": "stdout",
          "text": [
            "6        20\n",
            "7        60\n",
            "8        50\n",
            "9       190\n",
            "10       20\n",
            "       ... \n",
            "1455     60\n",
            "1456     20\n",
            "1457     70\n",
            "1458     20\n",
            "1459     20\n",
            "Name: MSSubClass_splited, Length: 1454, dtype: object 0        8450\n",
            "1        9600\n",
            "2       11250\n",
            "3        9550\n",
            "4       14260\n",
            "        ...  \n",
            "1455     7917\n",
            "1456    13175\n",
            "1457     9042\n",
            "1458     9717\n",
            "1459     9937\n",
            "Name: LotArea_splited, Length: 1460, dtype: object\n"
          ]
        }
      ]
    },
    {
      "cell_type": "markdown",
      "source": [
        "количество объектов с каждым значени признака"
      ],
      "metadata": {
        "id": "mw-q-2PO4Wzq"
      }
    },
    {
      "cell_type": "code",
      "source": [
        "print(house_data['GarageType'].value_counts())"
      ],
      "metadata": {
        "id": "6dNkMUygrm6K",
        "colab": {
          "base_uri": "https://localhost:8080/"
        },
        "outputId": "b9117144-7cbc-44a0-d675-76a0b08b6307"
      },
      "execution_count": null,
      "outputs": [
        {
          "output_type": "stream",
          "name": "stdout",
          "text": [
            "Attchd     870\n",
            "Detchd     387\n",
            "BuiltIn     88\n",
            "Basment     19\n",
            "CarPort      9\n",
            "2Types       6\n",
            "Name: GarageType, dtype: int64\n"
          ]
        }
      ]
    },
    {
      "cell_type": "markdown",
      "source": [
        "ПРОПУСКИ:"
      ],
      "metadata": {
        "id": "m4orolf4490P"
      }
    },
    {
      "cell_type": "markdown",
      "source": [
        "удаление объектов или признаков с пропусками"
      ],
      "metadata": {
        "id": "wImzPpKx5EOS"
      }
    },
    {
      "cell_type": "code",
      "source": [
        "print(house_data.head(3))\n",
        "print(house_data.dropna(how='any',axis=1).head(3))\n",
        "print(house_data.dropna(how='any',axis=0))"
      ],
      "metadata": {
        "colab": {
          "base_uri": "https://localhost:8080/"
        },
        "id": "yq67Cn3K481u",
        "outputId": "fc5c740f-11f6-49d4-8615-6a4c630ac368"
      },
      "execution_count": null,
      "outputs": [
        {
          "output_type": "stream",
          "name": "stdout",
          "text": [
            "   Id  MSSubClass MSZoning  LotFrontage  LotArea Street Alley LotShape  \\\n",
            "0   1          60       RL         65.0     8450   Pave   NaN      Reg   \n",
            "1   2          20       RL         80.0     9600   Pave   NaN      Reg   \n",
            "2   3          60       RL         68.0    11250   Pave   NaN      IR1   \n",
            "\n",
            "  LandContour Utilities  ... PoolArea PoolQC Fence MiscFeature MiscVal MoSold  \\\n",
            "0         Lvl    AllPub  ...        0    NaN   NaN         NaN       0      2   \n",
            "1         Lvl    AllPub  ...        0    NaN   NaN         NaN       0      5   \n",
            "2         Lvl    AllPub  ...        0    NaN   NaN         NaN       0      9   \n",
            "\n",
            "  YrSold  SaleType  SaleCondition  SalePrice  \n",
            "0   2008        WD         Normal     208500  \n",
            "1   2007        WD         Normal     181500  \n",
            "2   2008        WD         Normal     223500  \n",
            "\n",
            "[3 rows x 81 columns]\n",
            "   Id  MSSubClass MSZoning  LotArea Street LotShape LandContour Utilities  \\\n",
            "0   1          60       RL     8450   Pave      Reg         Lvl    AllPub   \n",
            "1   2          20       RL     9600   Pave      Reg         Lvl    AllPub   \n",
            "2   3          60       RL    11250   Pave      IR1         Lvl    AllPub   \n",
            "\n",
            "  LotConfig LandSlope  ... EnclosedPorch 3SsnPorch ScreenPorch PoolArea  \\\n",
            "0    Inside       Gtl  ...             0         0           0        0   \n",
            "1       FR2       Gtl  ...             0         0           0        0   \n",
            "2    Inside       Gtl  ...             0         0           0        0   \n",
            "\n",
            "  MiscVal  MoSold  YrSold  SaleType  SaleCondition SalePrice  \n",
            "0       0       2    2008        WD         Normal    208500  \n",
            "1       0       5    2007        WD         Normal    181500  \n",
            "2       0       9    2008        WD         Normal    223500  \n",
            "\n",
            "[3 rows x 62 columns]\n",
            "Empty DataFrame\n",
            "Columns: [Id, MSSubClass, MSZoning, LotFrontage, LotArea, Street, Alley, LotShape, LandContour, Utilities, LotConfig, LandSlope, Neighborhood, Condition1, Condition2, BldgType, HouseStyle, OverallQual, OverallCond, YearBuilt, YearRemodAdd, RoofStyle, RoofMatl, Exterior1st, Exterior2nd, MasVnrType, MasVnrArea, ExterQual, ExterCond, Foundation, BsmtQual, BsmtCond, BsmtExposure, BsmtFinType1, BsmtFinSF1, BsmtFinType2, BsmtFinSF2, BsmtUnfSF, TotalBsmtSF, Heating, HeatingQC, CentralAir, Electrical, 1stFlrSF, 2ndFlrSF, LowQualFinSF, GrLivArea, BsmtFullBath, BsmtHalfBath, FullBath, HalfBath, BedroomAbvGr, KitchenAbvGr, KitchenQual, TotRmsAbvGrd, Functional, Fireplaces, FireplaceQu, GarageType, GarageYrBlt, GarageFinish, GarageCars, GarageArea, GarageQual, GarageCond, PavedDrive, WoodDeckSF, OpenPorchSF, EnclosedPorch, 3SsnPorch, ScreenPorch, PoolArea, PoolQC, Fence, MiscFeature, MiscVal, MoSold, YrSold, SaleType, SaleCondition, SalePrice]\n",
            "Index: []\n",
            "\n",
            "[0 rows x 81 columns]\n"
          ]
        }
      ]
    },
    {
      "cell_type": "markdown",
      "source": [
        "заменяем на какое-либо значение"
      ],
      "metadata": {
        "id": "Uafj5zeL5VSY"
      }
    },
    {
      "cell_type": "code",
      "source": [
        "house_data['LotFrontage'].plot.hist()"
      ],
      "metadata": {
        "colab": {
          "base_uri": "https://localhost:8080/",
          "height": 283
        },
        "id": "JqtbT8Ke5Uvf",
        "outputId": "35e6c3d0-10e9-445b-9b3a-672c2e7b3adf"
      },
      "execution_count": null,
      "outputs": [
        {
          "output_type": "execute_result",
          "data": {
            "text/plain": [
              "<matplotlib.axes._subplots.AxesSubplot at 0x7f35b1cf6b50>"
            ]
          },
          "metadata": {},
          "execution_count": 21
        },
        {
          "output_type": "display_data",
          "data": {
            "text/plain": [
              "<Figure size 432x288 with 1 Axes>"
            ],
            "image/png": "[encoded data removed]"
          },
          "metadata": {
            "needs_background": "light"
          }
        }
      ]
    },
    {
      "cell_type": "code",
      "source": [
        "house_data['LotFrontage'].fillna(-1).plot.hist()"
      ],
      "metadata": {
        "colab": {
          "base_uri": "https://localhost:8080/",
          "height": 283
        },
        "id": "rM3vcm8y_LJ2",
        "outputId": "5e326003-626a-4ebd-ea25-b335d0ef52ad"
      },
      "execution_count": null,
      "outputs": [
        {
          "output_type": "stream",
          "name": "stdout",
          "text": [
            "AxesSubplot(0.125,0.125;0.775x0.755)\n"
          ]
        },
        {
          "output_type": "display_data",
          "data": {
            "text/plain": [
              "<Figure size 432x288 with 1 Axes>"
            ],
            "image/png": "[encoded data removed]"
          },
          "metadata": {
            "needs_background": "light"
          }
        }
      ]
    },
    {
      "cell_type": "markdown",
      "source": [
        "замена на легковычислимое значение"
      ],
      "metadata": {
        "id": "qq0bqLmE5Uol"
      }
    },
    {
      "cell_type": "code",
      "source": [],
      "metadata": {
        "id": "XFIPoYP25Ui0"
      },
      "execution_count": null,
      "outputs": []
    },
    {
      "cell_type": "markdown",
      "source": [],
      "metadata": {
        "id": "dmow6YBf5Ud-"
      }
    },
    {
      "cell_type": "code",
      "source": [],
      "metadata": {
        "id": "QqRKAwPS5UYh"
      },
      "execution_count": null,
      "outputs": []
    },
    {
      "cell_type": "markdown",
      "source": [],
      "metadata": {
        "id": "DsfLTV685UTz"
      }
    },
    {
      "cell_type": "code",
      "source": [],
      "metadata": {
        "id": "EuZxkeTF5UPS"
      },
      "execution_count": null,
      "outputs": []
    },
    {
      "cell_type": "markdown",
      "source": [],
      "metadata": {
        "id": "bjbxGQaM5UKS"
      }
    },
    {
      "cell_type": "code",
      "source": [],
      "metadata": {
        "id": "8Dnj3gL-5UGE"
      },
      "execution_count": null,
      "outputs": []
    },
    {
      "cell_type": "markdown",
      "source": [],
      "metadata": {
        "id": "1-0rW63T5UAZ"
      }
    },
    {
      "cell_type": "code",
      "source": [],
      "metadata": {
        "id": "So9y4eyu5T5l"
      },
      "execution_count": null,
      "outputs": []
    },
    {
      "cell_type": "markdown",
      "source": [],
      "metadata": {
        "id": "AXOmlYO35TwB"
      }
    },
    {
      "cell_type": "code",
      "source": [],
      "metadata": {
        "id": "3juBTuyC5Tnj"
      },
      "execution_count": null,
      "outputs": []
    },
    {
      "cell_type": "markdown",
      "source": [],
      "metadata": {
        "id": "UurOXBQd5TdF"
      }
    },
    {
      "cell_type": "code",
      "source": [],
      "metadata": {
        "id": "wGUxq-JW5Sfj"
      },
      "execution_count": null,
      "outputs": []
    },
    {
      "cell_type": "markdown",
      "source": [],
      "metadata": {
        "id": "5CpLTtc95SQT"
      }
    }
  ],
  "metadata": {
    "colab": {
      "provenance": [],
      "mount_file_id": "1WAYUUYmoBjTDc1nSDIDuTK1q5S1uPvQX",
      "authorship_tag": "ABX9TyMMuHVCZSB4mhX+lso08Z8P",
      "include_colab_link": true
    },
    "kernelspec": {
      "display_name": "Python 3",
      "name": "python3"
    },
    "language_info": {
      "name": "python"
    }
  },
  "nbformat": 4,
  "nbformat_minor": 0
}